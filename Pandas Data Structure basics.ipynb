{
 "cells": [
  {
   "cell_type": "markdown",
   "id": "ac404553",
   "metadata": {},
   "source": [
    "# creating Pandas Data Structure series"
   ]
  },
  {
   "cell_type": "code",
   "execution_count": 1,
   "id": "5653c165",
   "metadata": {},
   "outputs": [],
   "source": [
    "import pandas as pd"
   ]
  },
  {
   "cell_type": "code",
   "execution_count": 2,
   "id": "43769330",
   "metadata": {},
   "outputs": [
    {
     "name": "stdout",
     "output_type": "stream",
     "text": [
      "0      Atta\n",
      "1        23\n",
      "2    Mardan\n",
      "3    Poshto\n",
      "4      3000\n",
      "dtype: object\n"
     ]
    }
   ],
   "source": [
    "data = {'Name' :'Atta' , 'Age':23 , 'Adress' :'Mardan' , 'Language' :'Poshto' , 'Salary' : 3000}\n",
    "#ind = ['Name' , 'Age' , 'khan' , 'Name' , 'Age' , 'khan']\n",
    "ind = range(5)\n",
    "series = pd.Series(data)\n",
    "#series = pd.DataFrame(series)\n",
    "series\n",
    "val = data.values()\n",
    "series2 = pd.Series(val , index=ind) \n",
    "print(series2)"
   ]
  },
  {
   "cell_type": "markdown",
   "id": "40d82c4e",
   "metadata": {},
   "source": [
    "# Creating DataFrame Object"
   ]
  },
  {
   "cell_type": "code",
   "execution_count": 3,
   "id": "5d24fe4b",
   "metadata": {},
   "outputs": [
    {
     "data": {
      "text/html": [
       "<div>\n",
       "<style scoped>\n",
       "    .dataframe tbody tr th:only-of-type {\n",
       "        vertical-align: middle;\n",
       "    }\n",
       "\n",
       "    .dataframe tbody tr th {\n",
       "        vertical-align: top;\n",
       "    }\n",
       "\n",
       "    .dataframe thead th {\n",
       "        text-align: right;\n",
       "    }\n",
       "</style>\n",
       "<table border=\"1\" class=\"dataframe\">\n",
       "  <thead>\n",
       "    <tr style=\"text-align: right;\">\n",
       "      <th></th>\n",
       "      <th>Name</th>\n",
       "      <th>Age</th>\n",
       "      <th>Adress</th>\n",
       "      <th>Language</th>\n",
       "      <th>Salary</th>\n",
       "    </tr>\n",
       "  </thead>\n",
       "  <tbody>\n",
       "    <tr>\n",
       "      <th>23</th>\n",
       "      <td>Atta</td>\n",
       "      <td>23</td>\n",
       "      <td>Mardan</td>\n",
       "      <td>Poshto</td>\n",
       "      <td>3000</td>\n",
       "    </tr>\n",
       "    <tr>\n",
       "      <th>45</th>\n",
       "      <td>sajid</td>\n",
       "      <td>45</td>\n",
       "      <td>Mardan</td>\n",
       "      <td></td>\n",
       "      <td>//</td>\n",
       "    </tr>\n",
       "  </tbody>\n",
       "</table>\n",
       "</div>"
      ],
      "text/plain": [
       "     Name  Age  Adress Language Salary\n",
       "23   Atta   23  Mardan   Poshto   3000\n",
       "45  sajid   45  Mardan              //"
      ]
     },
     "execution_count": 3,
     "metadata": {},
     "output_type": "execute_result"
    }
   ],
   "source": [
    "ind = range(2)\n",
    "data = {'Name' :['Atta' , 'sajid'] , 'Age':[23 , 45]  , 'Adress' :['Mardan' , 'Mardan'] , 'Language' :['Poshto' , ''] , 'Salary' : [3000 , '//']}\n",
    "pd.DataFrame(data , index= data['Age'])\n"
   ]
  },
  {
   "cell_type": "code",
   "execution_count": 5,
   "id": "79a4c9ce",
   "metadata": {},
   "outputs": [
    {
     "name": "stdout",
     "output_type": "stream",
     "text": [
      "Enter range of dictionar1\n",
      "Enter value for starting 1\n",
      "Enter ending number1\n",
      "[0]\n",
      "[]\n"
     ]
    },
    {
     "ename": "IndexError",
     "evalue": "list index out of range",
     "output_type": "error",
     "traceback": [
      "\u001b[1;31m---------------------------------------------------------------------------\u001b[0m",
      "\u001b[1;31mIndexError\u001b[0m                                Traceback (most recent call last)",
      "Input \u001b[1;32mIn [5]\u001b[0m, in \u001b[0;36m<cell line: 8>\u001b[1;34m()\u001b[0m\n\u001b[0;32m      7\u001b[0m dic \u001b[38;5;241m=\u001b[39m {}\n\u001b[0;32m      8\u001b[0m \u001b[38;5;28;01mfor\u001b[39;00m i \u001b[38;5;129;01min\u001b[39;00m key:\n\u001b[1;32m----> 9\u001b[0m     dic[i] \u001b[38;5;241m=\u001b[39m \u001b[43mval\u001b[49m\u001b[43m[\u001b[49m\u001b[43mi\u001b[49m\u001b[43m]\u001b[49m\n\u001b[0;32m     11\u001b[0m \u001b[38;5;28mprint\u001b[39m(dic)\n\u001b[0;32m     12\u001b[0m df \u001b[38;5;241m=\u001b[39m pd\u001b[38;5;241m.\u001b[39mDataFrame([dic])\n",
      "\u001b[1;31mIndexError\u001b[0m: list index out of range"
     ]
    }
   ],
   "source": [
    "n = int(input('Enter range of dictionar'))\n",
    "key = list(range(n))\n",
    "x,y = int(input('Enter value for starting ')) , int(input('Enter ending number'))\n",
    "val = list(range(x,y))\n",
    "print(key)\n",
    "print(val)\n",
    "dic = {}\n",
    "for i in key:\n",
    "    dic[i] = val[i]\n",
    "    \n",
    "print(dic)\n",
    "df = pd.DataFrame([dic])"
   ]
  },
  {
   "cell_type": "code",
   "execution_count": null,
   "id": "90394281",
   "metadata": {},
   "outputs": [],
   "source": [
    "df"
   ]
  },
  {
   "cell_type": "code",
   "execution_count": null,
   "id": "fb30d56b",
   "metadata": {},
   "outputs": [],
   "source": [
    "dicts = {}\n",
    "keys = range(4)\n",
    "values = [\"Hi\", \"I\", \"am\", \"John\"]\n",
    "for i in keys:\n",
    "        dicts[i] =values[i]\n",
    "print(dicts)"
   ]
  },
  {
   "cell_type": "code",
   "execution_count": null,
   "id": "d818837d",
   "metadata": {},
   "outputs": [],
   "source": [
    "dicts = {}\n",
    "keys = range(4)\n",
    "values = [\"Hi\", \"I\", \"am\", \"John\"]\n",
    "for i in keys:\n",
    "        dicts[i] = values[i]\n",
    "print(dicts)"
   ]
  },
  {
   "cell_type": "code",
   "execution_count": null,
   "id": "ff9d84e1",
   "metadata": {},
   "outputs": [],
   "source": [
    "import pandas as pd\n",
    "df = pd.read_csv(r'https://raw.githubusercontent.com/attaurrahman294/Datasets/main/SampleSuperstore.csv')\n",
    "df.head()"
   ]
  },
  {
   "cell_type": "markdown",
   "id": "5cabe6b1",
   "metadata": {},
   "source": [
    "# DataFrame Attributes"
   ]
  },
  {
   "cell_type": "code",
   "execution_count": null,
   "id": "1f58753e",
   "metadata": {
    "scrolled": true
   },
   "outputs": [],
   "source": [
    "print('df indexing =\\n' ,df.index)\n",
    "print('column names = \\n' , df.columns)\n",
    "print('df axes = \\n' ,df.axes)\n",
    "print('df data types = \\n' , df.dtypes)\n",
    "print('Df size\\n rows*columns' , df.size)\n",
    "print('shape of the df\\n' , df.shape)\n",
    "print('Dimensions of the df\\n',df.ndim)\n",
    "print('count of rows \\n' , df.count(axis='index'))\n",
    "print('count of rows \\n' , df.count(0))\n",
    "print('count of rows \\n' , df.count())\n",
    "print('Count of columns\\n',df.count(axis='columns'))\n",
    "print('Count of columns\\n',df.count(1))"
   ]
  },
  {
   "cell_type": "code",
   "execution_count": null,
   "id": "b053d740",
   "metadata": {},
   "outputs": [],
   "source": [
    "df.head(10).T.T\n"
   ]
  },
  {
   "cell_type": "code",
   "execution_count": null,
   "id": "0a15a5d2",
   "metadata": {},
   "outputs": [],
   "source": [
    "df.values"
   ]
  },
  {
   "cell_type": "code",
   "execution_count": null,
   "id": "59d5c7c9",
   "metadata": {},
   "outputs": [],
   "source": [
    "dat = {'Name' : ['Slma' , ''] , 'Age':[34 , ''] , 'num' :[45 ,'' ]}\n",
    "dat = pd.DataFrame(dat)\n",
    "dat"
   ]
  },
  {
   "cell_type": "code",
   "execution_count": null,
   "id": "71758dd1",
   "metadata": {},
   "outputs": [],
   "source": [
    "dat.isnull().sum()"
   ]
  },
  {
   "cell_type": "code",
   "execution_count": null,
   "id": "c5b91944",
   "metadata": {},
   "outputs": [],
   "source": [
    "df"
   ]
  },
  {
   "cell_type": "markdown",
   "id": "36071da6",
   "metadata": {},
   "source": [
    "# Data Fram objects"
   ]
  },
  {
   "cell_type": "code",
   "execution_count": null,
   "id": "c336f1be",
   "metadata": {},
   "outputs": [],
   "source": [
    "df.head()"
   ]
  },
  {
   "cell_type": "code",
   "execution_count": null,
   "id": "d1b269de",
   "metadata": {},
   "outputs": [],
   "source": [
    "# accessing specific multiple column\n",
    "df[['Sub-Category']].head()"
   ]
  },
  {
   "cell_type": "code",
   "execution_count": null,
   "id": "ca83287d",
   "metadata": {},
   "outputs": [],
   "source": [
    "# accessing specific single column\n",
    "df[['Sub-Category' , 'City']].head()"
   ]
  },
  {
   "cell_type": "code",
   "execution_count": null,
   "id": "8c9849bf",
   "metadata": {},
   "outputs": [],
   "source": [
    "# Extract specific rows from the Data Frame\n",
    "df.loc[2 : 5,:]\n"
   ]
  },
  {
   "cell_type": "code",
   "execution_count": null,
   "id": "23581546",
   "metadata": {},
   "outputs": [],
   "source": [
    "# to extract speifc columns\n",
    "df.loc[: , 'Segment': 'State']"
   ]
  },
  {
   "cell_type": "code",
   "execution_count": null,
   "id": "9e877486",
   "metadata": {},
   "outputs": [],
   "source": [
    "\n",
    "df = df[['Segment' , 'City' , 'Profit' , 'Sales']]\n",
    "df"
   ]
  },
  {
   "cell_type": "code",
   "execution_count": null,
   "id": "f50c00cf",
   "metadata": {},
   "outputs": [],
   "source": [
    "df.iloc[:,  : ]"
   ]
  },
  {
   "cell_type": "code",
   "execution_count": null,
   "id": "95df0f80",
   "metadata": {},
   "outputs": [],
   "source": [
    "  import pandas as pd\n",
    "df = pd.read_csv(r'https://raw.githubusercontent.com/attaurrahman294/Datasets/main/SampleSuperstore.csv')\n",
    "df.head(1)"
   ]
  },
  {
   "cell_type": "code",
   "execution_count": null,
   "id": "01276f41",
   "metadata": {},
   "outputs": [],
   "source": [
    "df.iloc[0:10, 4:10 ]"
   ]
  },
  {
   "cell_type": "code",
   "execution_count": null,
   "id": "597c10f4",
   "metadata": {},
   "outputs": [],
   "source": []
  },
  {
   "cell_type": "markdown",
   "id": "8c57e75a",
   "metadata": {},
   "source": [
    "# accesing individual elements"
   ]
  },
  {
   "cell_type": "code",
   "execution_count": null,
   "id": "d2b0807b",
   "metadata": {},
   "outputs": [],
   "source": [
    "print(df.Category[4])\n",
    "print(df.Sales[7])\n",
    "print(df.Sales[1])\n",
    "print(df.Sales[0])"
   ]
  },
  {
   "cell_type": "code",
   "execution_count": null,
   "id": "23abaf21",
   "metadata": {},
   "outputs": [],
   "source": [
    "print(df['Sales'][0])"
   ]
  },
  {
   "cell_type": "code",
   "execution_count": null,
   "id": "243c18a2",
   "metadata": {},
   "outputs": [],
   "source": [
    "print"
   ]
  },
  {
   "cell_type": "code",
   "execution_count": null,
   "id": "bcb396e0",
   "metadata": {},
   "outputs": [],
   "source": [
    "print(df.at[2,'Region'])"
   ]
  },
  {
   "cell_type": "code",
   "execution_count": null,
   "id": "87505143",
   "metadata": {},
   "outputs": [],
   "source": [
    "i = int(input('Enter index row number'))\n",
    "c = int(input('enter column index number'))\n",
    "print(df.iat[i,c])"
   ]
  },
  {
   "cell_type": "markdown",
   "id": "0e825774",
   "metadata": {},
   "source": [
    "# Adding, Deleting, Updating, Renaming Rows Columns Cells in DataFrame Object"
   ]
  },
  {
   "cell_type": "markdown",
   "id": "ec4959fe",
   "metadata": {},
   "source": [
    "# adding modifying columns"
   ]
  },
  {
   "cell_type": "code",
   "execution_count": null,
   "id": "09c15906",
   "metadata": {
    "scrolled": true
   },
   "outputs": [],
   "source": [
    "i = range(0,9995)\n",
    "df['new column'] = range(1,9995)\n",
    "print(df)"
   ]
  },
  {
   "cell_type": "code",
   "execution_count": null,
   "id": "81f3071d",
   "metadata": {},
   "outputs": [],
   "source": [
    "df =  pd.DataFrame(df)\n",
    "df"
   ]
  },
  {
   "cell_type": "markdown",
   "id": "87e02f9d",
   "metadata": {},
   "source": [
    "# adding modifying Rows"
   ]
  },
  {
   "cell_type": "code",
   "execution_count": null,
   "id": "a48bdb7f",
   "metadata": {},
   "outputs": [],
   "source": [
    "df.shape"
   ]
  },
  {
   "cell_type": "code",
   "execution_count": null,
   "id": "4b474055",
   "metadata": {},
   "outputs": [],
   "source": [
    "df.at[3 , 'Country'] = 'Mardan2'\n",
    "df"
   ]
  },
  {
   "cell_type": "code",
   "execution_count": null,
   "id": "0e318071",
   "metadata": {},
   "outputs": [],
   "source": [
    "# ADD NEW ROW TO THE DATAFRAME\n",
    "df.at[3 , :] = ['First class' , 'Seg' ,'Seg','Seg' , 'Mardan' , 'ind' , 'Asia' , 'furniture' , 'sub' , 290 , 3 , 0 , 40 , 10 ]\n",
    "df.loc[2, 1:2] = 'Salman'\n",
    "df"
   ]
  },
  {
   "cell_type": "code",
   "execution_count": null,
   "id": "90131f8a",
   "metadata": {},
   "outputs": [],
   "source": [
    "df.at[3 , 'Country'] = 'Mardan' \n",
    "df"
   ]
  },
  {
   "cell_type": "markdown",
   "id": "83681872",
   "metadata": {},
   "source": [
    "# deleting rows / column"
   ]
  },
  {
   "cell_type": "code",
   "execution_count": null,
   "id": "9b135bb8",
   "metadata": {},
   "outputs": [],
   "source": [
    "df.head(1)"
   ]
  },
  {
   "cell_type": "code",
   "execution_count": null,
   "id": "2da9d14f",
   "metadata": {},
   "outputs": [],
   "source": [
    "df = pd.read_csv(r'https://raw.githubusercontent.com/attaurrahman294/Datasets/main/SampleSuperstore.csv')\n",
    "df.head()"
   ]
  },
  {
   "cell_type": "code",
   "execution_count": null,
   "id": "eb6515b0",
   "metadata": {
    "scrolled": true
   },
   "outputs": [],
   "source": [
    "del(df['Ship Mode'])\n",
    "df.head(1)"
   ]
  },
  {
   "cell_type": "code",
   "execution_count": null,
   "id": "b932aea3",
   "metadata": {},
   "outputs": [],
   "source": [
    "df.drop(['Country' , 'City'] , axis=1)\n",
    "df.head(1)"
   ]
  },
  {
   "cell_type": "code",
   "execution_count": null,
   "id": "15e8a5cb",
   "metadata": {},
   "outputs": [],
   "source": [
    "# remove specific records\n",
    "df.drop([0,1,2] , axis=0)"
   ]
  },
  {
   "cell_type": "markdown",
   "id": "d7c4ef71",
   "metadata": {},
   "source": [
    "# Rnaming a rows and columns"
   ]
  },
  {
   "cell_type": "code",
   "execution_count": null,
   "id": "b9eece13",
   "metadata": {},
   "outputs": [],
   "source": [
    "df = pd.read_csv(r'https://raw.githubusercontent.com/attaurrahman294/Datasets/main/SampleSuperstore.csv')\n",
    "df.head()"
   ]
  },
  {
   "cell_type": "code",
   "execution_count": null,
   "id": "cc06e186",
   "metadata": {},
   "outputs": [],
   "source": [
    "# Rename index of name of the record\n",
    "df = df.rename(index={1:'Atta' , 4: 'Sajid'})\n",
    "df.head()"
   ]
  },
  {
   "cell_type": "code",
   "execution_count": null,
   "id": "aac22fd0",
   "metadata": {},
   "outputs": [],
   "source": [
    "# Rename columns Name of the dataFrame\n",
    "df = df.rename(columns= {'Segment' : 'Atta' , 'City':'khar_name'})\n",
    "df"
   ]
  },
  {
   "cell_type": "code",
   "execution_count": null,
   "id": "c2d4a27f",
   "metadata": {},
   "outputs": [],
   "source": [
    "df = pd.read_csv(r'https://raw.githubusercontent.com/attaurrahman294/Datasets/main/SampleSuperstore.csv')\n",
    "df.head(1)"
   ]
  },
  {
   "cell_type": "code",
   "execution_count": null,
   "id": "b9fc18a3",
   "metadata": {},
   "outputs": [],
   "source": [
    "df = pd.DataFrame(df[['Sub-Category','Quantity','Profit' ,'Sales']])"
   ]
  },
  {
   "cell_type": "code",
   "execution_count": null,
   "id": "c55e50c6",
   "metadata": {},
   "outputs": [],
   "source": [
    "df = df.head()"
   ]
  },
  {
   "cell_type": "code",
   "execution_count": null,
   "id": "eaf9c1be",
   "metadata": {},
   "outputs": [],
   "source": [
    "df"
   ]
  },
  {
   "cell_type": "code",
   "execution_count": null,
   "id": "db32b7d0",
   "metadata": {},
   "outputs": [],
   "source": [
    "for (a,b)in df.iterrows():\n",
    "    print('Rows =' ,a ,'\\n','value =',b)\n",
    "    print()"
   ]
  },
  {
   "cell_type": "code",
   "execution_count": null,
   "id": "c21801e9",
   "metadata": {},
   "outputs": [],
   "source": [
    "for (a,b) in df.iteritems():\n",
    "    print('Column index'  ,a , '\\nValues\\n')\n",
    "    for i in b:\n",
    "        print(i)"
   ]
  },
  {
   "cell_type": "code",
   "execution_count": null,
   "id": "3f0c7566",
   "metadata": {},
   "outputs": [],
   "source": [
    "df"
   ]
  },
  {
   "cell_type": "code",
   "execution_count": null,
   "id": "a7211992",
   "metadata": {},
   "outputs": [],
   "source": [
    "list1 = []\n",
    "for i in df.columns:\n",
    "    listt = list1.append(i)\n",
    "\n",
    "for i in range(len(list1)):\n",
    "    print(list1[i] , end=' ')\n",
    "print('\\n------------------------------------------------------')\n",
    "for i,j in df.iterrows():\n",
    "    print(j.values,'')\n",
    "    print('-------------')"
   ]
  },
  {
   "cell_type": "code",
   "execution_count": null,
   "id": "66ee8ca0",
   "metadata": {},
   "outputs": [],
   "source": [
    "for i,j in df.iterrows():\n",
    "    print('\\t')\n",
    "    print(j.values,'\\t')"
   ]
  }
 ],
 "metadata": {
  "kernelspec": {
   "display_name": "Python 3 (ipykernel)",
   "language": "python",
   "name": "python3"
  },
  "language_info": {
   "codemirror_mode": {
    "name": "ipython",
    "version": 3
   },
   "file_extension": ".py",
   "mimetype": "text/x-python",
   "name": "python",
   "nbconvert_exporter": "python",
   "pygments_lexer": "ipython3",
   "version": "3.9.12"
  }
 },
 "nbformat": 4,
 "nbformat_minor": 5
}
